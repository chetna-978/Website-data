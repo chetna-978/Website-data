{
  "nbformat": 4,
  "nbformat_minor": 0,
  "metadata": {
    "colab": {
      "provenance": [],
      "authorship_tag": "ABX9TyOwhwMwPfTHXD5tQKMsIquv",
      "include_colab_link": true
    },
    "kernelspec": {
      "name": "python3",
      "display_name": "Python 3"
    },
    "language_info": {
      "name": "python"
    }
  },
  "cells": [
    {
      "cell_type": "markdown",
      "metadata": {
        "id": "view-in-github",
        "colab_type": "text"
      },
      "source": [
        "<a href=\"https://colab.research.google.com/github/chetna-978/Website-data/blob/master/Untitled2.ipynb\" target=\"_parent\"><img src=\"https://colab.research.google.com/assets/colab-badge.svg\" alt=\"Open In Colab\"/></a>"
      ]
    },
    {
      "cell_type": "code",
      "execution_count": 2,
      "metadata": {
        "colab": {
          "base_uri": "https://localhost:8080/"
        },
        "id": "tJ9u7WZPDenl",
        "outputId": "caa1a61d-3c05-48eb-85f7-4a503020c222"
      },
      "outputs": [
        {
          "output_type": "stream",
          "name": "stdout",
          "text": [
            "Epoch 1/5\n",
            "469/469 [==============================] - 25s 52ms/step - loss: 0.3084 - accuracy: 0.9121\n",
            "Epoch 2/5\n",
            "469/469 [==============================] - 24s 52ms/step - loss: 0.0869 - accuracy: 0.9743\n",
            "Epoch 3/5\n",
            "469/469 [==============================] - 24s 52ms/step - loss: 0.0633 - accuracy: 0.9801\n",
            "Epoch 4/5\n",
            "469/469 [==============================] - 24s 52ms/step - loss: 0.0495 - accuracy: 0.9847\n",
            "Epoch 5/5\n",
            "469/469 [==============================] - 24s 52ms/step - loss: 0.0400 - accuracy: 0.9871\n",
            "LeNet-5 - Test Loss: 0.0406, Test Accuracy: 0.9873\n",
            "Epoch 1/5\n",
            "469/469 [==============================] - 148s 312ms/step - loss: 0.2600 - accuracy: 0.9169\n",
            "Epoch 2/5\n",
            "469/469 [==============================] - 147s 313ms/step - loss: 0.0712 - accuracy: 0.9782\n",
            "Epoch 3/5\n",
            "469/469 [==============================] - 147s 314ms/step - loss: 0.0519 - accuracy: 0.9837\n",
            "Epoch 4/5\n",
            "469/469 [==============================] - 146s 311ms/step - loss: 0.0427 - accuracy: 0.9868\n",
            "Epoch 5/5\n",
            "469/469 [==============================] - 146s 311ms/step - loss: 0.0370 - accuracy: 0.9887\n",
            "Simplified VGGNet - Test Loss: 0.0213, Test Accuracy: 0.9938\n",
            "Epoch 1/5\n",
            "469/469 [==============================] - 68s 143ms/step - loss: 0.2680 - accuracy: 0.9198\n",
            "Epoch 2/5\n",
            "469/469 [==============================] - 68s 145ms/step - loss: 0.0921 - accuracy: 0.9726\n",
            "Epoch 3/5\n",
            "469/469 [==============================] - 67s 142ms/step - loss: 0.0700 - accuracy: 0.9788\n",
            "Epoch 4/5\n",
            "469/469 [==============================] - 67s 142ms/step - loss: 0.0581 - accuracy: 0.9820\n",
            "Epoch 5/5\n",
            "469/469 [==============================] - 67s 142ms/step - loss: 0.0491 - accuracy: 0.9849\n",
            "Custom - Test Loss: 0.0321, Test Accuracy: 0.9898\n",
            "\n",
            "Comparison Table:\n",
            "------------------------------\n",
            "| Model              | Accuracy |\n",
            "------------------------------\n",
            "| LeNet-5            |    98.73% |\n",
            "| Simplified VGGNet  |    99.38% |\n",
            "| Custom             |    98.98% |\n",
            "------------------------------\n"
          ]
        }
      ],
      "source": [
        "import tensorflow as tf\n",
        "from tensorflow.keras import layers\n",
        "from tensorflow.keras.datasets import mnist\n",
        "from tensorflow.keras.utils import to_categorical\n",
        "\n",
        "# Load and preprocess the MNIST dataset\n",
        "(x_train, y_train), (x_test, y_test) = mnist.load_data()\n",
        "x_train = x_train.reshape(-1, 28, 28, 1).astype('float32') / 255.0\n",
        "x_test = x_test.reshape(-1, 28, 28, 1).astype('float32') / 255.0\n",
        "y_train = to_categorical(y_train, num_classes=10)\n",
        "y_test = to_categorical(y_test, num_classes=10)\n",
        "\n",
        "# LeNet-5 architecture\n",
        "model_lenet5 = tf.keras.Sequential([\n",
        "    layers.Conv2D(6, kernel_size=(5, 5), activation='relu', input_shape=(28, 28, 1)),\n",
        "    layers.MaxPooling2D(pool_size=(2, 2)),\n",
        "    layers.Conv2D(16, kernel_size=(5, 5), activation='relu'),\n",
        "    layers.MaxPooling2D(pool_size=(2, 2)),\n",
        "    layers.Flatten(),\n",
        "    layers.Dense(120, activation='relu'),\n",
        "    layers.Dense(84, activation='relu'),\n",
        "    layers.Dense(10, activation='softmax')\n",
        "])\n",
        "\n",
        "# Simplified VGGNet architecture\n",
        "model_vgg = tf.keras.Sequential([\n",
        "    layers.Conv2D(32, kernel_size=(3, 3), activation='relu', input_shape=(28, 28, 1)),\n",
        "    layers.Conv2D(32, kernel_size=(3, 3), activation='relu'),\n",
        "    layers.MaxPooling2D(pool_size=(2, 2)),\n",
        "    layers.Dropout(0.25),\n",
        "    layers.Conv2D(64, kernel_size=(3, 3), activation='relu'),\n",
        "    layers.Conv2D(64, kernel_size=(3, 3), activation='relu'),\n",
        "    layers.MaxPooling2D(pool_size=(2, 2)),\n",
        "    layers.Dropout(0.25),\n",
        "    layers.Flatten(),\n",
        "    layers.Dense(256, activation='relu'),\n",
        "    layers.Dropout(0.5),\n",
        "    layers.Dense(10, activation='softmax')\n",
        "])\n",
        "\n",
        "# Custom architecture\n",
        "model_custom = tf.keras.Sequential([\n",
        "    layers.Conv2D(16, kernel_size=(3, 3), activation='relu', input_shape=(28, 28, 1)),\n",
        "    layers.Conv2D(32, kernel_size=(3, 3), activation='relu'),\n",
        "    layers.MaxPooling2D(pool_size=(2, 2)),\n",
        "    layers.Dropout(0.25),\n",
        "    layers.Flatten(),\n",
        "    layers.Dense(128, activation='relu'),\n",
        "    layers.Dropout(0.5),\n",
        "    layers.Dense(10, activation='softmax')\n",
        "])\n",
        "\n",
        "# Compile and train the models\n",
        "models = [model_lenet5, model_vgg, model_custom]\n",
        "model_names = ['LeNet-5', 'Simplified VGGNet', 'Custom']\n",
        "\n",
        "for model, name in zip(models, model_names):\n",
        "    model.compile(loss='categorical_crossentropy', optimizer='adam', metrics=['accuracy'])\n",
        "    model.fit(x_train, y_train, batch_size=128, epochs=5, verbose=1)\n",
        "    \n",
        "    # Evaluate the model\n",
        "    test_loss, test_accuracy = model.evaluate(x_test, y_test, verbose=0)\n",
        "    print(f\"{name} - Test Loss: {test_loss:.4f}, Test Accuracy: {test_accuracy:.4f}\")\n",
        "\n",
        "# Comparison table\n",
        "print(\"\\nComparison Table:\")\n",
        "print(\"------------------------------\")\n",
        "print(\"| Model              | Accuracy |\")\n",
        "print(\"------------------------------\")\n",
        "for model, name in zip(models, model_names):\n",
        "    _, test_accuracy = model.evaluate(x_test, y_test, verbose=0)\n",
        "    print(f\"| {name:18s} | {test_accuracy*100:8.2f}% |\")\n",
        "print(\"------------------------------\")\n"
      ]
    }
  ]
}