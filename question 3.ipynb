{
  "nbformat": 4,
  "nbformat_minor": 0,
  "metadata": {
    "colab": {
      "provenance": [],
      "authorship_tag": "ABX9TyMR8TSdo5X2IUSSGFIV3Q1C",
      "include_colab_link": true
    },
    "kernelspec": {
      "name": "python3",
      "display_name": "Python 3"
    },
    "language_info": {
      "name": "python"
    }
  },
  "cells": [
    {
      "cell_type": "markdown",
      "metadata": {
        "id": "view-in-github",
        "colab_type": "text"
      },
      "source": [
        "<a href=\"https://colab.research.google.com/github/chetna-978/Website-data/blob/master/question%203.ipynb\" target=\"_parent\"><img src=\"https://colab.research.google.com/assets/colab-badge.svg\" alt=\"Open In Colab\"/></a>"
      ]
    },
    {
      "cell_type": "code",
      "execution_count": 1,
      "metadata": {
        "colab": {
          "base_uri": "https://localhost:8080/"
        },
        "id": "8NT8S0fvPBfo",
        "outputId": "32a6cd36-7711-4dad-a3cb-78c71689bf77"
      },
      "outputs": [
        {
          "output_type": "stream",
          "name": "stdout",
          "text": [
            "Downloading data from https://storage.googleapis.com/tensorflow/tf-keras-datasets/mnist.npz\n",
            "11490434/11490434 [==============================] - 0s 0us/step\n",
            "Epoch 1/10\n",
            "469/469 [==============================] - 69s 144ms/step - loss: 0.2057 - accuracy: 0.9407\n",
            "Epoch 2/10\n",
            "469/469 [==============================] - 61s 131ms/step - loss: 0.0611 - accuracy: 0.9813\n",
            "Epoch 3/10\n",
            "469/469 [==============================] - 61s 130ms/step - loss: 0.0424 - accuracy: 0.9874\n",
            "Epoch 4/10\n",
            "469/469 [==============================] - 60s 128ms/step - loss: 0.0326 - accuracy: 0.9898\n",
            "Epoch 5/10\n",
            "469/469 [==============================] - 61s 131ms/step - loss: 0.0258 - accuracy: 0.9919\n",
            "Epoch 6/10\n",
            "469/469 [==============================] - 60s 128ms/step - loss: 0.0201 - accuracy: 0.9936\n",
            "Epoch 7/10\n",
            "469/469 [==============================] - 61s 130ms/step - loss: 0.0164 - accuracy: 0.9949\n",
            "Epoch 8/10\n",
            "469/469 [==============================] - 60s 127ms/step - loss: 0.0124 - accuracy: 0.9962\n",
            "Epoch 9/10\n",
            "469/469 [==============================] - 61s 131ms/step - loss: 0.0087 - accuracy: 0.9973\n",
            "Epoch 10/10\n",
            "469/469 [==============================] - 61s 129ms/step - loss: 0.0076 - accuracy: 0.9974\n",
            "Validation Accuracy: 98.61%\n"
          ]
        }
      ],
      "source": [
        "import tensorflow as tf\n",
        "from tensorflow.keras import layers, models\n",
        "from tensorflow.keras.datasets import mnist\n",
        "\n",
        "# Hyperparameters\n",
        "num_epochs = 10\n",
        "batch_size = 128\n",
        "learning_rate = 0.001\n",
        "\n",
        "# Load MNIST dataset\n",
        "(x_train, y_train), (x_test, y_test) = mnist.load_data()\n",
        "\n",
        "# Preprocess the data\n",
        "x_train = x_train.reshape(-1, 28, 28, 1).astype('float32') / 255.0\n",
        "x_test = x_test.reshape(-1, 28, 28, 1).astype('float32') / 255.0\n",
        "\n",
        "# Define the model\n",
        "model = models.Sequential()\n",
        "model.add(layers.Conv2D(16, (3, 3), activation='relu', input_shape=(28, 28, 1)))\n",
        "model.add(layers.Conv2D(32, (3, 3), activation='relu'))\n",
        "model.add(layers.Flatten())\n",
        "model.add(layers.Dense(10, activation='softmax'))\n",
        "\n",
        "# Compile the model\n",
        "model.compile(optimizer=tf.keras.optimizers.Adam(learning_rate=learning_rate),\n",
        "              loss=tf.keras.losses.SparseCategoricalCrossentropy(),\n",
        "              metrics=['accuracy'])\n",
        "\n",
        "# Train the model\n",
        "model.fit(x_train, y_train, batch_size=batch_size, epochs=num_epochs, verbose=1)\n",
        "\n",
        "# Evaluate the model\n",
        "_, accuracy = model.evaluate(x_test, y_test, verbose=0)\n",
        "print('Validation Accuracy: {:.2f}%'.format(accuracy * 100))\n"
      ]
    }
  ]
}